{
 "cells": [
  {
   "cell_type": "code",
   "execution_count": 7,
   "id": "affecting-wallpaper",
   "metadata": {},
   "outputs": [],
   "source": [
    "import pyautogui as pg \n",
    "import webbrowser as web\n",
    "import time as tn\n",
    "\n",
    "web.open('https://web.whatsapp.com/send?phone=+528331494376')\n",
    "tn.sleep(1)\n",
    "pg.write('Test')\n",
    "pg.press('enter')"
   ]
  },
  {
   "cell_type": "code",
   "execution_count": 5,
   "id": "adequate-upper",
   "metadata": {},
   "outputs": [
    {
     "name": "stdout",
     "output_type": "stream",
     "text": [
      "Note: you may need to restart the kernel to use updated packages.\n"
     ]
    },
    {
     "name": "stderr",
     "output_type": "stream",
     "text": [
      "ERROR: Could not find a version that satisfies the requirement tine\n",
      "ERROR: No matching distribution found for tine\n",
      "WARNING: You are using pip version 20.3.3; however, version 21.0.1 is available.\n",
      "You should consider upgrading via the 'c:\\python\\python39\\python.exe -m pip install --upgrade pip' command.\n"
     ]
    }
   ],
   "source": [
    "pip install tine"
   ]
  },
  {
   "cell_type": "code",
   "execution_count": null,
   "id": "competent-tunisia",
   "metadata": {},
   "outputs": [],
   "source": [
    "H\n",
    "o\n",
    "l\n",
    "a\n",
    ",\n",
    " \n",
    "    c\n",
    "    o\n",
    "    m\n",
    "    o\n",
    "     \n",
    "        e\n",
    "        s\n",
    "        t\n",
    "        a\n",
    "        s\n",
    "        ?\n",
    "        "
   ]
  }
 ],
 "metadata": {
  "kernelspec": {
   "display_name": "Python 3",
   "language": "python",
   "name": "python3"
  },
  "language_info": {
   "codemirror_mode": {
    "name": "ipython",
    "version": 3
   },
   "file_extension": ".py",
   "mimetype": "text/x-python",
   "name": "python",
   "nbconvert_exporter": "python",
   "pygments_lexer": "ipython3",
   "version": "3.9.0"
  }
 },
 "nbformat": 4,
 "nbformat_minor": 5
}

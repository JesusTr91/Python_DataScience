{
 "cells": [
  {
   "cell_type": "markdown",
   "id": "covered-advocate",
   "metadata": {},
   "source": [
    "## Question 1\n",
    "Write a function called `proportion_of_education` which returns the proportion of children in the dataset who had a mother with the education levels equal to less than high school (<12), high school (12), more than high school but not a college graduate (>12) and college degree.\n",
    "\n",
    "*This function should return a dictionary in the form of (use the correct numbers, do not round numbers):* \n",
    "```\n",
    "    {\"less than high school\":0.2,\n",
    "    \"high school\":0.4,\n",
    "    \"more than high school but not college\":0.2,\n",
    "    \"college\":0.2}\n",
    "```"
   ]
  },
  {
   "cell_type": "code",
   "execution_count": 4,
   "id": "published-plasma",
   "metadata": {},
   "outputs": [
    {
     "data": {
      "text/plain": [
       "{'less than high school': 10.202002459160372,\n",
       " 'high school': 0.172352011241876,\n",
       " 'more than high school but not college': 0.24588090637625154,\n",
       " 'college': 0.47974705779026877}"
      ]
     },
     "execution_count": 4,
     "metadata": {},
     "output_type": "execute_result"
    }
   ],
   "source": [
    "import pandas as pd\n",
    "\n",
    "\n",
    "df = pd.read_csv('C:/Users/Propietario/Desktop/Jupyter/2. Pandas/Datasets/NISPUF17.csv', index_col=0)\n",
    "#print(df.head())\n",
    "\n",
    "def proportion_of_education():\n",
    " \n",
    "    df_mother = df['EDUC1']\n",
    "    total = df_mother.count()\n",
    "    less_high = df_mother[df_mother == 1].count()\n",
    "    high_school = df_mother[df_mother == 2].count()\n",
    "    more_high = df_mother[df_mother == 3].count()\n",
    "    college = df_mother[df_mother == 4].count()\n",
    "    dictionary = {\"less than high school\": (less_high/total)*100,\n",
    "                  \"high school\": high_school/total,\n",
    "                  \"more than high school but not college\": more_high/total,\n",
    "                  \"college\": college/total}\n",
    "    \n",
    "    return dictionary\n",
    "\n",
    "proportion_of_education()"
   ]
  },
  {
   "cell_type": "code",
   "execution_count": 18,
   "id": "honest-spice",
   "metadata": {},
   "outputs": [
    {
     "name": "stdout",
     "output_type": "stream",
     "text": [
      "28465\n",
      "2904\n",
      "4906\n",
      "6999\n",
      "13656\n"
     ]
    },
    {
     "data": {
      "text/plain": [
       "{'less than high school': 10.202002459160372,\n",
       " 'high school': 17.2352011241876,\n",
       " 'more than high school but not college': 24.588090637625154,\n",
       " 'college': 47.97470577902688}"
      ]
     },
     "execution_count": 18,
     "metadata": {},
     "output_type": "execute_result"
    }
   ],
   "source": [
    "import pandas as pd\n",
    "\n",
    "df = pd.read_csv('C:/Users/Propietario/Desktop/Jupyter/2. Pandas/Datasets/NISPUF17.csv', index_col=0)\n",
    "pd.set_option('max_columns', None)\n",
    "df_mother=df['EDUC1']\n",
    "total = df_mother.count()\n",
    "less_high = df_mother[df_mother == 1].count()\n",
    "high_school = df_mother[df_mother == 2].count()\n",
    "more_high = df_mother[df_mother == 3].count()\n",
    "college = df_mother[df_mother == 4].count()\n",
    "print(total)\n",
    "print(less_high)\n",
    "print(high_school)\n",
    "print(more_high)\n",
    "print(college)\n",
    "dictionary = {\"less than high school\": (less_high/total)*100,\n",
    "                  \"high school\": (high_school/total)*100,\n",
    "                  \"more than high school but not college\": (more_high/total)*100,\n",
    "                  \"college\": (college/total)*100}\n",
    "dictionary"
   ]
  },
  {
   "cell_type": "markdown",
   "id": "apparent-analysis",
   "metadata": {},
   "source": [
    "## Question 2\n",
    "\n",
    "Let's explore the relationship between being fed breastmilk as a child and getting a seasonal influenza vaccine from a healthcare provider. Return a tuple of the average number of influenza vaccines for those children we know received breastmilk as a child and those who know did not.\n",
    "\n",
    "*This function should return a tuple in the form (use the correct numbers:*\n",
    "```\n",
    "(2.5, 0.1)\n",
    "```"
   ]
  },
  {
   "cell_type": "code",
   "execution_count": 5,
   "id": "magnetic-switch",
   "metadata": {},
   "outputs": [
    {
     "data": {
      "text/plain": [
       "(1.8799187420058687, 1.5963945918878317)"
      ]
     },
     "execution_count": 5,
     "metadata": {},
     "output_type": "execute_result"
    }
   ],
   "source": [
    "df = pd.read_csv('C:/Users/Propietario/Desktop/Jupyter/2. Pandas/Datasets/NISPUF17.csv', index_col = 0)\n",
    "\n",
    "def average_influenza_doses():\n",
    "    df_brfd = df.groupby('CBF_01')\n",
    "    df_inf = df_brfd['P_NUMFLU'].mean() \n",
    "    return(df_inf.iloc[0], df_inf.iloc[1])\n",
    "\n",
    "average_influenza_doses()"
   ]
  },
  {
   "cell_type": "code",
   "execution_count": 27,
   "id": "upper-uruguay",
   "metadata": {},
   "outputs": [
    {
     "name": "stdout",
     "output_type": "stream",
     "text": [
      "<pandas.core.groupby.generic.DataFrameGroupBy object at 0x000002AEC1B5F370>\n",
      "CBF_01\n",
      "1     1.879919\n",
      "2     1.596395\n",
      "77    1.380952\n",
      "99    1.000000\n",
      "Name: P_NUMFLU, dtype: float64\n",
      "1.8799187420058687\n",
      "1.5963945918878317\n",
      "1.380952380952381\n",
      "1.0\n"
     ]
    }
   ],
   "source": [
    "df = pd.read_csv('C:/Users/Propietario/Desktop/Jupyter/2. Pandas/Datasets/NISPUF17.csv', index_col=0)\n",
    "pd.set_option('max_columns', None)\n",
    "\n",
    "df_brfd = df.groupby('CBF_01')\n",
    "df_inf = df_brfd['P_NUMFLU'].mean()\n",
    "print(df_brfd)\n",
    "print(df_inf)\n",
    "print(df_inf.iloc[0])\n",
    "print(df_inf.iloc[1])\n",
    "print(df_inf.iloc[2])\n",
    "print(df_inf.iloc[3])\n"
   ]
  },
  {
   "cell_type": "markdown",
   "id": "rental-heading",
   "metadata": {},
   "source": [
    "## Question 3\n",
    "It would be interesting to see if there is any evidence of a link between vaccine effectiveness and sex of the child. Calculate the ratio of the number of children who contracted chickenpox but were vaccinated against it (at least one varicella dose) versus those who were vaccinated but did not contract chicken pox. Return results by sex. \n",
    "\n",
    "*This function should return a dictionary in the form of (use the correct numbers):* \n",
    "```\n",
    "    {\"male\":0.2,\n",
    "    \"female\":0.4}\n",
    "```\n",
    "\n",
    "Note: To aid in verification, the `chickenpox_by_sex()['female']` value the autograder is looking for starts with the digits `0.0077`."
   ]
  },
  {
   "cell_type": "code",
   "execution_count": 6,
   "id": "desperate-harris",
   "metadata": {},
   "outputs": [
    {
     "data": {
      "text/plain": [
       "{'male': 0.009675583380762664, 'female': 0.0077918259335489565}"
      ]
     },
     "execution_count": 6,
     "metadata": {},
     "output_type": "execute_result"
    }
   ],
   "source": [
    "def chickenpox_by_sex():\n",
    "    df = pd.read_csv('C:/Users/Propietario/Desktop/Jupyter/2. Pandas/Datasets/NISPUF17.csv', index_col=0)\n",
    "    df_sex = df.groupby('SEX')\n",
    "    # where P_NUMVRC is the total number of varicella doses\n",
    "    df_male_cpox = df['HAD_CPOX'][(df['HAD_CPOX'] == 1) & (df['SEX'] == 1) & (df['P_NUMVRC'] >= 1)].count()\n",
    "    df_male_not_cpox = df['HAD_CPOX'][(df['HAD_CPOX'] == 2) & (df['SEX'] == 1) & (df['P_NUMVRC'] >= 1)].count()\n",
    "    df_female_cpox = df['HAD_CPOX'][(df['HAD_CPOX'] == 1) & (df['SEX'] == 2) & (df['P_NUMVRC'] >= 1)].count()\n",
    "    df_female_not_cpox = df['HAD_CPOX'][(df['HAD_CPOX'] == 2) & (df['SEX'] == 2) & (df['P_NUMVRC'] >= 1)].count()\n",
    "    return {'male': df_male_cpox/df_male_not_cpox, 'female': df_female_cpox/df_female_not_cpox}\n",
    "\n",
    "chickenpox_by_sex()"
   ]
  },
  {
   "cell_type": "markdown",
   "id": "reverse-microwave",
   "metadata": {},
   "source": [
    "##Question 4\n",
    "\n",
    "A correlation is a statistical relationship between two variables. If we wanted to know if vaccines work, we might look at the correlation between the use of the vaccine and whether it results in prevention of the infection or disease [1]. In this question, you are to see if there is a correlation between having had the chicken pox and the number of chickenpox vaccine doses given (varicella).\n",
    "\n",
    "Some notes on interpreting the answer. The had_chickenpox_column is either 1 (for yes) or 2 (for no), and the num_chickenpox_vaccine_column is the number of doses a child has been given of the varicella vaccine. A positive correlation (e.g., corr > 0) means that an increase in had_chickenpox_column (which means more no’s) would also increase the values of num_chickenpox_vaccine_column (which means more doses of vaccine). If there is a negative correlation (e.g., corr < 0), it indicates that having had chickenpox is related to an increase in the number of vaccine doses.\n",
    "\n",
    "Also, pval is the probability that we observe a correlation between had_chickenpox_column and num_chickenpox_vaccine_column which is greater than or equal to a particular value occurred by chance. A small pval means that the observed correlation is highly unlikely to occur by chance. In this case, pval should be very small (will end in e-18 indicating a very small number).\n",
    "\n",
    "[1] This isn’t really the full picture, since we are not looking at when the dose was given. It’s possible that children had chickenpox and then their parents went to get them the vaccine. Does this dataset have the data we would need to investigate the timing of the dose?"
   ]
  },
  {
   "cell_type": "code",
   "execution_count": 28,
   "id": "included-deployment",
   "metadata": {},
   "outputs": [
    {
     "ename": "ModuleNotFoundError",
     "evalue": "No module named 'scipy'",
     "output_type": "error",
     "traceback": [
      "\u001b[1;31m---------------------------------------------------------------------------\u001b[0m",
      "\u001b[1;31mModuleNotFoundError\u001b[0m                       Traceback (most recent call last)",
      "\u001b[1;32m<ipython-input-28-18dba4fe7ed2>\u001b[0m in \u001b[0;36m<module>\u001b[1;34m\u001b[0m\n\u001b[0;32m      9\u001b[0m     \u001b[1;32mreturn\u001b[0m \u001b[0mcorr\u001b[0m\u001b[1;33m\u001b[0m\u001b[1;33m\u001b[0m\u001b[0m\n\u001b[0;32m     10\u001b[0m \u001b[1;33m\u001b[0m\u001b[0m\n\u001b[1;32m---> 11\u001b[1;33m \u001b[0mcorr_chickenpox\u001b[0m\u001b[1;33m(\u001b[0m\u001b[1;33m)\u001b[0m\u001b[1;33m\u001b[0m\u001b[1;33m\u001b[0m\u001b[0m\n\u001b[0m",
      "\u001b[1;32m<ipython-input-28-18dba4fe7ed2>\u001b[0m in \u001b[0;36mcorr_chickenpox\u001b[1;34m()\u001b[0m\n\u001b[0;32m      1\u001b[0m \u001b[1;32mdef\u001b[0m \u001b[0mcorr_chickenpox\u001b[0m\u001b[1;33m(\u001b[0m\u001b[1;33m)\u001b[0m\u001b[1;33m:\u001b[0m\u001b[1;33m\u001b[0m\u001b[1;33m\u001b[0m\u001b[0m\n\u001b[1;32m----> 2\u001b[1;33m     \u001b[1;32mimport\u001b[0m \u001b[0mscipy\u001b[0m\u001b[1;33m.\u001b[0m\u001b[0mstats\u001b[0m \u001b[1;32mas\u001b[0m \u001b[0mstats\u001b[0m\u001b[1;33m\u001b[0m\u001b[1;33m\u001b[0m\u001b[0m\n\u001b[0m\u001b[0;32m      3\u001b[0m     \u001b[1;32mimport\u001b[0m \u001b[0mnumpy\u001b[0m \u001b[1;32mas\u001b[0m \u001b[0mnp\u001b[0m\u001b[1;33m\u001b[0m\u001b[1;33m\u001b[0m\u001b[0m\n\u001b[0;32m      4\u001b[0m     \u001b[1;32mimport\u001b[0m \u001b[0mpandas\u001b[0m \u001b[1;32mas\u001b[0m \u001b[0mpd\u001b[0m\u001b[1;33m\u001b[0m\u001b[1;33m\u001b[0m\u001b[0m\n\u001b[0;32m      5\u001b[0m \u001b[1;33m\u001b[0m\u001b[0m\n",
      "\u001b[1;31mModuleNotFoundError\u001b[0m: No module named 'scipy'"
     ]
    }
   ],
   "source": [
    "def corr_chickenpox():\n",
    "    import scipy.stats as stats\n",
    "    import numpy as np\n",
    "    import pandas as pd\n",
    "    \n",
    "    df = pd.read_csv('C:/Users/Propietario/Desktop/Jupyter/2. Pandas/Datasets/NISPUF17.csv', index_col=0)\n",
    "    df = df[(df['HAD_CPOX'] < 3) & (df['P_NUMVRC'] >= 0)] \n",
    "    corr, pval=stats.pearsonr(df['HAD_CPOX'], df['P_NUMVRC'])\n",
    "    return corr\n",
    "\n",
    "corr_chickenpox()"
   ]
  },
  {
   "cell_type": "code",
   "execution_count": 2,
   "id": "royal-camera",
   "metadata": {},
   "outputs": [
    {
     "name": "stdout",
     "output_type": "stream",
     "text": [
      "Note: you may need to restart the kernel to use updated packages.\n"
     ]
    },
    {
     "name": "stderr",
     "output_type": "stream",
     "text": [
      "ERROR: Could not find a version that satisfies the requirement scipy.stats\n",
      "ERROR: No matching distribution found for scipy.stats\n"
     ]
    }
   ],
   "source": [
    "pip install scipy.stats"
   ]
  },
  {
   "cell_type": "code",
   "execution_count": null,
   "id": "intended-cookie",
   "metadata": {},
   "outputs": [],
   "source": []
  }
 ],
 "metadata": {
  "kernelspec": {
   "display_name": "Python 3",
   "language": "python",
   "name": "python3"
  },
  "language_info": {
   "codemirror_mode": {
    "name": "ipython",
    "version": 3
   },
   "file_extension": ".py",
   "mimetype": "text/x-python",
   "name": "python",
   "nbconvert_exporter": "python",
   "pygments_lexer": "ipython3",
   "version": "3.9.0"
  }
 },
 "nbformat": 4,
 "nbformat_minor": 5
}
